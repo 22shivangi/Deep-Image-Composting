{
 "cells": [
  {
   "cell_type": "markdown",
   "metadata": {},
   "source": [
    "# Run main.py to train the model"
   ]
  },
  {
   "cell_type": "code",
   "execution_count": null,
   "metadata": {
    "scrolled": true
   },
   "outputs": [
    {
     "name": "stdout",
     "output_type": "stream",
     "text": [
      "[12/03 12:03:21]  Running with the following parameters:\n",
      "[12/03 12:03:21]  {'dataset': 'toy', 'data_dirpath': 'data/', 'n_workers': 2, 'gpu': '0', 'random_seed': 1, 'discriminator': 'test_discriminator1', 'generator': 'test_generator1', 'd_lr': 1e-06, 'g_lr': 1e-05, 'batch_size': 2, 'd_optim': 'adam', 'g_optim': 'adam', 'model_name': 'test_model', 'epochs': 100, 'tf_logs': 'tf_logs/test1', 'plot_matplotlib': 'y'}\n",
      "2018-12-03 00:03:24.084822: I tensorflow/core/platform/cpu_feature_guard.cc:141] Your CPU supports instructions that this TensorFlow binary was not compiled to use: AVX2 FMA\n",
      "[12/03 12:03:30]  Training Start!!!\n",
      "[12/03 12:03:53]  [1/100] - ptime: 23.16 loss_d: 1.430, loss_g: 0.765\n",
      "[12/03 12:04:19]  [2/100] - ptime: 25.03 loss_d: 1.357, loss_g: 0.695\n",
      "[12/03 12:04:48]  [3/100] - ptime: 28.84 loss_d: 1.351, loss_g: 0.694\n",
      "[12/03 12:05:12]  [4/100] - ptime: 23.29 loss_d: 1.344, loss_g: 0.694\n",
      "[12/03 12:05:47]  [5/100] - ptime: 34.36 loss_d: 1.334, loss_g: 0.693\n",
      "[12/03 12:06:08]  [6/100] - ptime: 20.01 loss_d: 1.322, loss_g: 0.693\n",
      "[12/03 12:07:03]  [7/100] - ptime: 54.39 loss_d: 1.304, loss_g: 0.693\n",
      "[12/03 12:07:51]  [8/100] - ptime: 46.97 loss_d: 1.280, loss_g: 0.693\n",
      "[12/03 12:08:14]  [9/100] - ptime: 21.88 loss_d: 1.243, loss_g: 0.693\n"
     ]
    }
   ],
   "source": [
    "!python main.py -tf 'tf_logs/test1' -d 'toy' -dr 'test_discriminator1' -gr 'test_generator1' -d_lr 1e-6 -g_lr 1e-5 -b 2 -d_opt 'adam' -g_opt 'adam' -m 'test_model' -e 100 "
   ]
  },
  {
   "cell_type": "code",
   "execution_count": null,
   "metadata": {},
   "outputs": [],
   "source": []
  }
 ],
 "metadata": {
  "kernelspec": {
   "display_name": "adl4cv",
   "language": "python",
   "name": "adl4cv"
  },
  "language_info": {
   "codemirror_mode": {
    "name": "ipython",
    "version": 3
   },
   "file_extension": ".py",
   "mimetype": "text/x-python",
   "name": "python",
   "nbconvert_exporter": "python",
   "pygments_lexer": "ipython3",
   "version": "3.6.5"
  }
 },
 "nbformat": 4,
 "nbformat_minor": 2
}
