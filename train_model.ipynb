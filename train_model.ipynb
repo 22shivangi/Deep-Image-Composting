{
 "cells": [
  {
   "cell_type": "markdown",
   "metadata": {},
   "source": [
    "# Run main.py to train the model"
   ]
  },
  {
   "cell_type": "code",
   "execution_count": 45,
   "metadata": {
    "scrolled": true
   },
   "outputs": [
    {
     "name": "stdout",
     "output_type": "stream",
     "text": [
      "[12/01 01:56:16]  Running with the following parameters:\n",
      "[12/01 01:56:16]  {'dataset': 'toy', 'data_dirpath': 'data/', 'n_workers': 2, 'gpu': '0', 'random_seed': 1, 'discriminator': 'test_discriminator1', 'generator': 'test_generator1', 'learning_rate': 0.0001, 'batch_size': 2, 'optim': 'adam', 'model_name': 'test_model', 'epochs': 10, 'tf_logs': 'tf_logs/test3', 'plot_matplotlib': 'y'}\n",
      "/Users/shivangi/Desktop/Masters/Sem3/ADL/adl4cv_practikum/tf_logs/test3/\n",
      "2018-12-01 01:56:24.282002: I tensorflow/core/platform/cpu_feature_guard.cc:141] Your CPU supports instructions that this TensorFlow binary was not compiled to use: AVX2 FMA\n",
      "[12/01 01:56:25]  Training Start!!!\n",
      "[12/01 01:56:30]  [1/10] - ptime: 4.20 loss_d: 1.447, loss_g: 0.748\n",
      "[12/01 01:56:34]  [2/10] - ptime: 3.77 loss_d: 1.386, loss_g: 0.693\n",
      "[12/01 01:56:39]  [3/10] - ptime: 4.26 loss_d: 1.386, loss_g: 0.693\n",
      "[12/01 01:56:45]  [4/10] - ptime: 5.47 loss_d: 1.386, loss_g: 0.693\n",
      "[12/01 01:56:50]  [5/10] - ptime: 4.71 loss_d: 1.386, loss_g: 0.693\n",
      "[12/01 01:56:55]  [6/10] - ptime: 4.34 loss_d: 1.386, loss_g: 0.693\n",
      "[12/01 01:57:01]  [7/10] - ptime: 4.63 loss_d: 1.386, loss_g: 0.693\n",
      "[12/01 01:57:06]  [8/10] - ptime: 4.37 loss_d: 1.386, loss_g: 0.693\n",
      "[12/01 01:57:11]  [9/10] - ptime: 4.79 loss_d: 1.386, loss_g: 0.693\n",
      "[12/01 01:57:17]  [10/10] - ptime: 4.73 loss_d: 1.386, loss_g: 0.693\n",
      "[12/01 01:57:17]  Avg per epoch ptime: 4.53, total 10 epochs ptime: 51.97\n",
      "[12/01 01:57:17]  Training finish!!!... Save Training Results\n",
      "[12/01 01:57:17]  Model Saved\n"
     ]
    }
   ],
   "source": [
    "!python main.py -tf 'tf_logs/test3' -d 'toy' -dr 'test_discriminator1' -gr 'test_generator1' -lr 1e-4 -b 2 -opt 'adam' -m 'test_model' -e 10 "
   ]
  },
  {
   "cell_type": "code",
   "execution_count": null,
   "metadata": {},
   "outputs": [],
   "source": []
  }
 ],
 "metadata": {
  "kernelspec": {
   "display_name": "adl4cv",
   "language": "python",
   "name": "adl4cv"
  },
  "language_info": {
   "codemirror_mode": {
    "name": "ipython",
    "version": 3
   },
   "file_extension": ".py",
   "mimetype": "text/x-python",
   "name": "python",
   "nbconvert_exporter": "python",
   "pygments_lexer": "ipython3",
   "version": "3.6.5"
  }
 },
 "nbformat": 4,
 "nbformat_minor": 2
}
